{
 "cells": [
  {
   "cell_type": "code",
   "execution_count": 6,
   "metadata": {},
   "outputs": [
    {
     "name": "stdout",
     "output_type": "stream",
     "text": [
      "hi!\n",
      "Media Files\\Trial     1.mpg\n",
      "Media Files\\Trial     2.mpg\n",
      "Media Files\\Trial     3.mpg\n",
      "Media Files\\Trial     4.mpg\n",
      "Media Files\\Trial     5.mpg\n",
      "Media Files\\Trial     6.mpg\n",
      "Media Files\\Trial     7.mpg\n",
      "Media Files\\Trial     8.mpg\n",
      "Media Files\\Trial     9.mpg\n",
      "Media Files\\Trial    10.mpg\n"
     ]
    }
   ],
   "source": [
    "from moviepy.editor import VideoFileClip\n",
    "\n",
    "# 変換元のディレクトリと変換後のディレクトリを指定します\n",
    "input_directory = \"mpg\"\n",
    "output_directory = \"mp4\"\n",
    "\n",
    "# .mpgファイルを.mp4に変換する関数\n",
    "def convert_mpg_to_mp4(mpg_file_path, output_dir):\n",
    "    try:\n",
    "        clip = VideoFileClip(mpg_file_path)\n",
    "        mp4_file_name = mpg_file_path.split(\"\\\\\")[-1].replace(\".mpg\", \".mp4\")\n",
    "        #↑windowsの場合、pathの区切り文字は\\となるが、文字列として\\を使うためにはエスケープシーケンス\\\\を使わなくてはならない罠。\n",
    "        mp4_output_path = output_dir + \"/\" + mp4_file_name\n",
    "        #↑区切り文字が/でもwindowsは処理してくれるので、こちらから指定する場合は/を使ってしまう。楽だから…。\n",
    "        clip.write_videofile(mp4_output_path, codec=\"libx264\")\n",
    "        print(f\"変換完了: {mp4_output_path}\")\n",
    "    except Exception as e:\n",
    "        print(f\"変換エラー: {e}\")\n",
    "\n",
    "# 指定ディレクトリ(input_directory)内のすべての.mpgファイルを処理\n",
    "import os\n",
    "for root, dirs, files in os.walk(input_directory):\n",
    "    for file in files:\n",
    "        #print(file)\n",
    "        if file.endswith(\".mpg\"):\n",
    "            mpg_file_path = os.path.join(root, file)\n",
    "            convert_mpg_to_mp4(mpg_file_path, output_directory)"
   ]
  }
 ],
 "metadata": {
  "kernelspec": {
   "display_name": "media_manipulation",
   "language": "python",
   "name": "python3"
  },
  "language_info": {
   "codemirror_mode": {
    "name": "ipython",
    "version": 3
   },
   "file_extension": ".py",
   "mimetype": "text/x-python",
   "name": "python",
   "nbconvert_exporter": "python",
   "pygments_lexer": "ipython3",
   "version": "3.12.0"
  },
  "orig_nbformat": 4
 },
 "nbformat": 4,
 "nbformat_minor": 2
}
